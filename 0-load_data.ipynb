{
 "cells": [
  {
   "cell_type": "code",
   "execution_count": 2,
   "id": "5ee01d21",
   "metadata": {},
   "outputs": [],
   "source": [
    "import numpy as np\n",
    "import pandas as pd\n",
    "from tqdm import tqdm "
   ]
  },
  {
   "cell_type": "code",
   "execution_count": 4,
   "id": "56f5720d",
   "metadata": {},
   "outputs": [
    {
     "data": {
      "text/html": [
       "<div>\n",
       "<style scoped>\n",
       "    .dataframe tbody tr th:only-of-type {\n",
       "        vertical-align: middle;\n",
       "    }\n",
       "\n",
       "    .dataframe tbody tr th {\n",
       "        vertical-align: top;\n",
       "    }\n",
       "\n",
       "    .dataframe thead th {\n",
       "        text-align: right;\n",
       "    }\n",
       "</style>\n",
       "<table border=\"1\" class=\"dataframe\">\n",
       "  <thead>\n",
       "    <tr style=\"text-align: right;\">\n",
       "      <th></th>\n",
       "      <th>8640</th>\n",
       "      <th>2019-07-31T00:00:00.000</th>\n",
       "      <th>POINT (2402260.204455464 473328.926465227)</th>\n",
       "      <th>0</th>\n",
       "    </tr>\n",
       "  </thead>\n",
       "  <tbody>\n",
       "    <tr>\n",
       "      <th>0</th>\n",
       "      <td>8640</td>\n",
       "      <td>2019-07-31T00:00:00.000</td>\n",
       "      <td>POINT (2402813.677910915 474557.51637712587)</td>\n",
       "      <td>1</td>\n",
       "    </tr>\n",
       "    <tr>\n",
       "      <th>1</th>\n",
       "      <td>8640</td>\n",
       "      <td>2019-07-31T00:00:00.000</td>\n",
       "      <td>POINT (2399803.600705054 474442.6596569324)</td>\n",
       "      <td>2</td>\n",
       "    </tr>\n",
       "    <tr>\n",
       "      <th>2</th>\n",
       "      <td>8640</td>\n",
       "      <td>2019-07-31T00:00:00.000</td>\n",
       "      <td>POINT (2400759.852366462 472406.4289242615)</td>\n",
       "      <td>3</td>\n",
       "    </tr>\n",
       "    <tr>\n",
       "      <th>3</th>\n",
       "      <td>8640</td>\n",
       "      <td>2019-07-31T00:00:00.000</td>\n",
       "      <td>POINT (2400937.8548142486 471502.26925464044)</td>\n",
       "      <td>4</td>\n",
       "    </tr>\n",
       "    <tr>\n",
       "      <th>4</th>\n",
       "      <td>8640</td>\n",
       "      <td>2019-07-31T00:00:00.000</td>\n",
       "      <td>POINT (2402699.027901029 474476.898268871)</td>\n",
       "      <td>5</td>\n",
       "    </tr>\n",
       "    <tr>\n",
       "      <th>...</th>\n",
       "      <td>...</td>\n",
       "      <td>...</td>\n",
       "      <td>...</td>\n",
       "      <td>...</td>\n",
       "    </tr>\n",
       "    <tr>\n",
       "      <th>41065914</th>\n",
       "      <td>12959</td>\n",
       "      <td>2019-08-14T23:55:00.000</td>\n",
       "      <td>POINT (2401681.0240090624 473558.6772320744)</td>\n",
       "      <td>9995</td>\n",
       "    </tr>\n",
       "    <tr>\n",
       "      <th>41065915</th>\n",
       "      <td>12959</td>\n",
       "      <td>2019-08-14T23:55:00.000</td>\n",
       "      <td>POINT (2401149.494151651 470574.4069413735)</td>\n",
       "      <td>9996</td>\n",
       "    </tr>\n",
       "    <tr>\n",
       "      <th>41065916</th>\n",
       "      <td>12959</td>\n",
       "      <td>2019-08-14T23:55:00.000</td>\n",
       "      <td>POINT (2401260.6542374277 471793.33056893264)</td>\n",
       "      <td>9997</td>\n",
       "    </tr>\n",
       "    <tr>\n",
       "      <th>41065917</th>\n",
       "      <td>12959</td>\n",
       "      <td>2019-08-14T23:55:00.000</td>\n",
       "      <td>POINT (2401164.375583787 472479.67479755223)</td>\n",
       "      <td>9998</td>\n",
       "    </tr>\n",
       "    <tr>\n",
       "      <th>41065918</th>\n",
       "      <td>12959</td>\n",
       "      <td>2019-08-14T23:55:00.000</td>\n",
       "      <td>POINT (2400458.3994224034 471731.27930514235)</td>\n",
       "      <td>9999</td>\n",
       "    </tr>\n",
       "  </tbody>\n",
       "</table>\n",
       "<p>41065919 rows × 4 columns</p>\n",
       "</div>"
      ],
      "text/plain": [
       "           8640  2019-07-31T00:00:00.000  \\\n",
       "0          8640  2019-07-31T00:00:00.000   \n",
       "1          8640  2019-07-31T00:00:00.000   \n",
       "2          8640  2019-07-31T00:00:00.000   \n",
       "3          8640  2019-07-31T00:00:00.000   \n",
       "4          8640  2019-07-31T00:00:00.000   \n",
       "...         ...                      ...   \n",
       "41065914  12959  2019-08-14T23:55:00.000   \n",
       "41065915  12959  2019-08-14T23:55:00.000   \n",
       "41065916  12959  2019-08-14T23:55:00.000   \n",
       "41065917  12959  2019-08-14T23:55:00.000   \n",
       "41065918  12959  2019-08-14T23:55:00.000   \n",
       "\n",
       "             POINT (2402260.204455464 473328.926465227)     0  \n",
       "0          POINT (2402813.677910915 474557.51637712587)     1  \n",
       "1           POINT (2399803.600705054 474442.6596569324)     2  \n",
       "2           POINT (2400759.852366462 472406.4289242615)     3  \n",
       "3         POINT (2400937.8548142486 471502.26925464044)     4  \n",
       "4            POINT (2402699.027901029 474476.898268871)     5  \n",
       "...                                                 ...   ...  \n",
       "41065914   POINT (2401681.0240090624 473558.6772320744)  9995  \n",
       "41065915    POINT (2401149.494151651 470574.4069413735)  9996  \n",
       "41065916  POINT (2401260.6542374277 471793.33056893264)  9997  \n",
       "41065917   POINT (2401164.375583787 472479.67479755223)  9998  \n",
       "41065918  POINT (2400458.3994224034 471731.27930514235)  9999  \n",
       "\n",
       "[41065919 rows x 4 columns]"
      ]
     },
     "execution_count": 4,
     "metadata": {},
     "output_type": "execute_result"
    }
   ],
   "source": [
    "df = pd.read_csv('data/train.tsv', sep='\\t')\n",
    "df"
   ]
  },
  {
   "cell_type": "code",
   "execution_count": 2,
   "id": "c3876d01",
   "metadata": {},
   "outputs": [
    {
     "name": "stderr",
     "output_type": "stream",
     "text": [
      "100%|██████████| 41065920/41065920 [01:58<00:00, 347035.88it/s]\n"
     ]
    }
   ],
   "source": [
    "data_dict = dict(zip(np.arange(10000),[[] for _ in range(10000)]))\n",
    "with open(\"data/train.tsv\", 'r') as f:\n",
    "    lines = f.readlines()\n",
    "    for line in tqdm(lines):\n",
    "        coors_ = line.split('\\t')[2].split('(')[1][:-1].split(' ')\n",
    "        coor = [float(item) for item in coors_]\n",
    "        index_id = int(line.split('\\t')[3].split('\\n')[0])\n",
    "        data_dict[index_id].append(coor)"
   ]
  },
  {
   "cell_type": "code",
   "execution_count": 5,
   "id": "dc6057c1",
   "metadata": {},
   "outputs": [
    {
     "name": "stderr",
     "output_type": "stream",
     "text": [
      "100%|██████████| 10000/10000 [00:19<00:00, 511.89it/s]\n"
     ]
    }
   ],
   "source": [
    "data = []\n",
    "for i in tqdm(range(10000)):\n",
    "    item = np.array(data_dict[i])\n",
    "    if len(item) > 0:\n",
    "        data.append(item)"
   ]
  },
  {
   "cell_type": "code",
   "execution_count": 15,
   "id": "a9870bab",
   "metadata": {},
   "outputs": [],
   "source": [
    "data_1 = np.concatenate(data, axis=0).reshape(-1,4320,2)\n",
    "# data_t=np.stack(data)"
   ]
  },
  {
   "cell_type": "code",
   "execution_count": 24,
   "id": "8a367ad4",
   "metadata": {},
   "outputs": [],
   "source": [
    "np.save(\"data/train.npy\", data_1)"
   ]
  },
  {
   "cell_type": "code",
   "execution_count": 25,
   "id": "c16602b5",
   "metadata": {},
   "outputs": [],
   "source": [
    "data2 = np.load(\"data/train.npy\")"
   ]
  },
  {
   "cell_type": "code",
   "execution_count": 26,
   "id": "ca302f56",
   "metadata": {},
   "outputs": [
    {
     "data": {
      "text/plain": [
       "(9506, 4320, 2)"
      ]
     },
     "execution_count": 26,
     "metadata": {},
     "output_type": "execute_result"
    }
   ],
   "source": [
    "data2.shape"
   ]
  },
  {
   "cell_type": "code",
   "execution_count": 28,
   "id": "5c7cee34",
   "metadata": {},
   "outputs": [
    {
     "data": {
      "text/plain": [
       "True"
      ]
     },
     "execution_count": 28,
     "metadata": {},
     "output_type": "execute_result"
    }
   ],
   "source": [
    "np.all(data2==data_1)"
   ]
  },
  {
   "cell_type": "code",
   "execution_count": null,
   "id": "16537ae4",
   "metadata": {},
   "outputs": [],
   "source": []
  }
 ],
 "metadata": {
  "kernelspec": {
   "display_name": "Python 3 (ipykernel)",
   "language": "python",
   "name": "python3"
  },
  "language_info": {
   "codemirror_mode": {
    "name": "ipython",
    "version": 3
   },
   "file_extension": ".py",
   "mimetype": "text/x-python",
   "name": "python",
   "nbconvert_exporter": "python",
   "pygments_lexer": "ipython3",
   "version": "3.10.6"
  }
 },
 "nbformat": 4,
 "nbformat_minor": 5
}
