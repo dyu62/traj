{
 "cells": [
  {
   "cell_type": "code",
   "execution_count": 1,
   "id": "5ee01d21",
   "metadata": {},
   "outputs": [],
   "source": [
    "import numpy as np\n",
    "import pandas as pd\n",
    "from tqdm import tqdm "
   ]
  },
  {
   "cell_type": "code",
   "execution_count": 2,
   "id": "c3876d01",
   "metadata": {},
   "outputs": [
    {
     "name": "stderr",
     "output_type": "stream",
     "text": [
      "100%|██████████| 41065920/41065920 [01:58<00:00, 347035.88it/s]\n"
     ]
    }
   ],
   "source": [
    "data_dict = dict(zip(np.arange(10000),[[] for _ in range(10000)]))\n",
    "with open(\"train.tsv\", 'r') as f:\n",
    "    lines = f.readlines()\n",
    "    for line in tqdm(lines):\n",
    "        coors_ = line.split('\\t')[2].split('(')[1][:-1].split(' ')\n",
    "        coor = [float(item) for item in coors_]\n",
    "        index_id = int(line.split('\\t')[3].split('\\n')[0])\n",
    "        data_dict[index_id].append(coor)"
   ]
  },
  {
   "cell_type": "code",
   "execution_count": 5,
   "id": "dc6057c1",
   "metadata": {},
   "outputs": [
    {
     "name": "stderr",
     "output_type": "stream",
     "text": [
      "100%|██████████| 10000/10000 [00:19<00:00, 511.89it/s]\n"
     ]
    }
   ],
   "source": [
    "data = []\n",
    "for i in tqdm(range(10000)):\n",
    "    item = np.array(data_dict[i])\n",
    "    if len(item) > 0:\n",
    "        data.append(item)"
   ]
  },
  {
   "cell_type": "code",
   "execution_count": 15,
   "id": "a9870bab",
   "metadata": {},
   "outputs": [],
   "source": [
    "data_1 = np.concatenate(data, axis=0).reshape(-1,4320,2)\n",
    "# data_t=np.stack(data)"
   ]
  },
  {
   "cell_type": "code",
   "execution_count": 24,
   "id": "8a367ad4",
   "metadata": {},
   "outputs": [],
   "source": [
    "np.save(\"train.npy\", data_1)"
   ]
  },
  {
   "cell_type": "code",
   "execution_count": 25,
   "id": "c16602b5",
   "metadata": {},
   "outputs": [],
   "source": [
    "data2 = np.load(\"train.npy\")"
   ]
  },
  {
   "cell_type": "code",
   "execution_count": 26,
   "id": "ca302f56",
   "metadata": {},
   "outputs": [
    {
     "data": {
      "text/plain": [
       "(9506, 4320, 2)"
      ]
     },
     "execution_count": 26,
     "metadata": {},
     "output_type": "execute_result"
    }
   ],
   "source": [
    "data2.shape"
   ]
  },
  {
   "cell_type": "code",
   "execution_count": 28,
   "id": "5c7cee34",
   "metadata": {},
   "outputs": [
    {
     "data": {
      "text/plain": [
       "True"
      ]
     },
     "execution_count": 28,
     "metadata": {},
     "output_type": "execute_result"
    }
   ],
   "source": [
    "np.all(data2==data_1)"
   ]
  },
  {
   "cell_type": "code",
   "execution_count": null,
   "id": "16537ae4",
   "metadata": {},
   "outputs": [],
   "source": []
  }
 ],
 "metadata": {
  "kernelspec": {
   "display_name": "Python 3 (ipykernel)",
   "language": "python",
   "name": "python3"
  },
  "language_info": {
   "codemirror_mode": {
    "name": "ipython",
    "version": 3
   },
   "file_extension": ".py",
   "mimetype": "text/x-python",
   "name": "python",
   "nbconvert_exporter": "python",
   "pygments_lexer": "ipython3",
   "version": "3.10.6"
  }
 },
 "nbformat": 4,
 "nbformat_minor": 5
}
